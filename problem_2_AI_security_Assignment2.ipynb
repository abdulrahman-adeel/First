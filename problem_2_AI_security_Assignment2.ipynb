{
  "nbformat": 4,
  "nbformat_minor": 0,
  "metadata": {
    "colab": {
      "name": "problem_2_AI_security_Assignment2.ipynb",
      "provenance": [],
      "collapsed_sections": []
    },
    "kernelspec": {
      "display_name": "Python 3",
      "language": "python",
      "name": "python3"
    },
    "language_info": {
      "codemirror_mode": {
        "name": "ipython",
        "version": 3
      },
      "file_extension": ".py",
      "mimetype": "text/x-python",
      "name": "python",
      "nbconvert_exporter": "python",
      "pygments_lexer": "ipython3",
      "version": "3.8.5"
    }
  },
  "cells": [
    {
      "cell_type": "markdown",
      "metadata": {
        "id": "r2Xv2M6o5t4j"
      },
      "source": [
        "----------\n",
        "# Problem 2\n",
        "--------------"
      ]
    },
    {
      "cell_type": "code",
      "metadata": {
        "id": "s_wV2BiF5t4m"
      },
      "source": [
        "import random\n",
        "random.seed(123)"
      ],
      "execution_count": 1,
      "outputs": []
    },
    {
      "cell_type": "markdown",
      "metadata": {
        "id": "5W1qTKxS5t4n"
      },
      "source": [
        "## Importing required libraries"
      ]
    },
    {
      "cell_type": "code",
      "metadata": {
        "id": "kmbHP8CS5t4o"
      },
      "source": [
        "# import important libraries\n",
        "import pandas as pd\n",
        "import numpy as np\n",
        "import sklearn\n",
        "import matplotlib.pyplot as plt\n",
        "import seaborn as sns\n",
        "from sklearn.tree import DecisionTreeClassifier\n",
        "from sklearn.svm import SVC\n",
        "from sklearn.ensemble import GradientBoostingClassifier\n",
        "from sklearn.metrics import accuracy_score,f1_score\n",
        "from sklearn.model_selection import train_test_split\n",
        "import time, math\n",
        "%matplotlib inline\n",
        "from sklearn.model_selection import GridSearchCV\n",
        "from sklearn.linear_model import SGDClassifier\n",
        "from sklearn.metrics import confusion_matrix,plot_confusion_matrix, classification_report\n",
        "import ast\n",
        "import copy"
      ],
      "execution_count": 2,
      "outputs": []
    },
    {
      "cell_type": "code",
      "metadata": {
        "id": "U3arPLDP5t4o",
        "scrolled": true
      },
      "source": [
        "df_iot = pd.read_csv(\"iot_static_data.csv\")"
      ],
      "execution_count": 3,
      "outputs": []
    },
    {
      "cell_type": "markdown",
      "metadata": {
        "id": "klG0eMaSSr5x"
      },
      "source": [
        "# Preprocessing"
      ]
    },
    {
      "cell_type": "code",
      "metadata": {
        "id": "IasJLNC69uZr"
      },
      "source": [
        "#I replaced the inf with nan and removed them as it gave better performance\n",
        "\n",
        "# Replacing infinite with nan\n",
        "\n",
        "df_iot.replace([ np.inf , -np.inf ] , np.nan, inplace=True)\n",
        "  \n",
        "# Dropping all the rows with nan values\n",
        "df_iot=df_iot.dropna( axis=0, how='any', thresh=None, subset=None, inplace=False)"
      ],
      "execution_count": 4,
      "outputs": []
    },
    {
      "cell_type": "code",
      "metadata": {
        "colab": {
          "base_uri": "https://localhost:8080/"
        },
        "id": "M86TOfP55t4o",
        "scrolled": true,
        "outputId": "60a5b2b1-ecf0-44b6-bbf6-10db8c8b4c17"
      },
      "source": [
        "df_iot.isnull().sum().sum()"
      ],
      "execution_count": 5,
      "outputs": [
        {
          "output_type": "execute_result",
          "data": {
            "text/plain": [
              "0"
            ]
          },
          "metadata": {},
          "execution_count": 5
        }
      ]
    },
    {
      "cell_type": "code",
      "metadata": {
        "colab": {
          "base_uri": "https://localhost:8080/"
        },
        "id": "0K2khC9FlUhH",
        "outputId": "0e961c3f-ac34-4664-ba32-aadfeada98c8"
      },
      "source": [
        "df_iot['Class'].value_counts()"
      ],
      "execution_count": 6,
      "outputs": [
        {
          "output_type": "execute_result",
          "data": {
            "text/plain": [
              "BENIGN                   22287\n",
              "mirai_udp_attack          1774\n",
              "gafgyt_udp_attack          446\n",
              "gafgyt_junk_attack         377\n",
              "gafgyt_tcp_attack          213\n",
              "gafgyt_scan_attack         200\n",
              "mirai_syn_attack           101\n",
              "mirai_ack_attack            96\n",
              "mirai_scan_attack           86\n",
              "gafgyt_combo_attack         18\n",
              "mirai_udpplain_attack       11\n",
              "Name: Class, dtype: int64"
            ]
          },
          "metadata": {},
          "execution_count": 6
        }
      ]
    },
    {
      "cell_type": "code",
      "metadata": {
        "id": "lf06rIMJ5t4q"
      },
      "source": [
        "#Converting categorical to numeric without Label or hot encoding just to confirm numbers assigned does not change\n",
        "\n",
        "df_iot[\"Class\"].replace({\"BENIGN\": 0, \"mirai_udp_attack\": 1, \"gafgyt_udp_attack\": 2, \"gafgyt_junk_attack\": 3, \"gafgyt_tcp_attack\": 4, \"gafgyt_scan_attack\": 5, \"mirai_syn_attack\": 6, \"mirai_ack_attack\": 7, \"mirai_scan_attack\": 8, \"gafgyt_combo_attack\": 9, \"mirai_udpplain_attack\": 10}, inplace=True)\n",
        "\n",
        "df_iot[\"Source\"].replace({\"Philips B120N10 Baby Monitor\": 0, \"Provision PT 838 Security Camera\": 1,\"Provision PT 737E Security Camera\": 2,\"Danmini Doorbell\": 3,\"SimpleHome XCS7 1002 WHT Security Camera\": 4,\"Samsung SNH 1011 N Webcam\": 5,\"Ennio Doorbell\": 6,\"Ecobee Thermostat\": 7,\"SimpleHome XCS7 1003 WHT Security Camera\": 8}, inplace=True)\n",
        "\n"
      ],
      "execution_count": 7,
      "outputs": []
    },
    {
      "cell_type": "code",
      "metadata": {
        "id": "BWZdlNhI5t4r"
      },
      "source": [
        "#Preparing labels and features\n",
        "X, y = df_iot.iloc[:, :-1], df_iot.iloc[:, -1]"
      ],
      "execution_count": 8,
      "outputs": []
    },
    {
      "cell_type": "code",
      "metadata": {
        "id": "EOcTOSJL5t4s"
      },
      "source": [
        "from sklearn.model_selection import train_test_split\n",
        "\n",
        "#Split dataset into train and test\n",
        "X_train, X_test, y_train, y_test = train_test_split(X, y, test_size = 0.2,stratify=y,random_state=42)\n",
        "\n"
      ],
      "execution_count": 9,
      "outputs": []
    },
    {
      "cell_type": "code",
      "metadata": {
        "colab": {
          "base_uri": "https://localhost:8080/"
        },
        "id": "cyb5Bttc5t4r",
        "outputId": "b86e404f-7d9d-4500-a4f2-829c8da5f292"
      },
      "source": [
        "y_train.value_counts()"
      ],
      "execution_count": 10,
      "outputs": [
        {
          "output_type": "execute_result",
          "data": {
            "text/plain": [
              "0     17829\n",
              "1      1419\n",
              "2       357\n",
              "3       302\n",
              "4       170\n",
              "5       160\n",
              "6        81\n",
              "7        77\n",
              "8        69\n",
              "9        14\n",
              "10        9\n",
              "Name: Class, dtype: int64"
            ]
          },
          "metadata": {},
          "execution_count": 10
        }
      ]
    },
    {
      "cell_type": "code",
      "metadata": {
        "id": "KPyx1hXT5t4t"
      },
      "source": [
        "# Normalization\n",
        "\n",
        "from sklearn.preprocessing import MinMaxScaler\n",
        "from sklearn.preprocessing import StandardScaler\n",
        "scaler = MinMaxScaler()\n",
        "scaler.fit(X_train)\n",
        "\n",
        "X_train = pd.DataFrame(scaler.transform(X_train))\n",
        "X_test = pd.DataFrame(scaler.transform(X_test))\n"
      ],
      "execution_count": 11,
      "outputs": []
    },
    {
      "cell_type": "code",
      "metadata": {
        "id": "xsielxcWdohl"
      },
      "source": [
        "#Copying the training set to use it later for the dynamic case\n",
        "\n",
        "X_train2 =  copy.deepcopy( X_train \n",
        "                        )\n",
        "y_train2 =  copy.deepcopy( y_train )"
      ],
      "execution_count": 12,
      "outputs": []
    },
    {
      "cell_type": "code",
      "metadata": {
        "id": "KnthjNfWEzmq"
      },
      "source": [
        "#Confusion matrix for testing\n",
        "def plot_conf(y_true,y_predict):\n",
        "    plt.figure(figsize=[20, 7])\n",
        "    plt.subplot(1,2,1)\n",
        "    title = 'Confusion matrix '\n",
        "    sns.heatmap(confusion_matrix(y_true, y_predict), annot=True, fmt='')\n",
        "    plt.title(title)\n",
        "    plt.xlabel('Predicted label');\n",
        "    plt.ylabel('True label');\n",
        "\n",
        "    return"
      ],
      "execution_count": 13,
      "outputs": []
    },
    {
      "cell_type": "code",
      "metadata": {
        "colab": {
          "base_uri": "https://localhost:8080/",
          "height": 891
        },
        "id": "igKy3HqVEG00",
        "outputId": "63b49edc-b02c-48ce-95ca-4c55a8090a13"
      },
      "source": [
        "from sklearn.linear_model import SGDClassifier\n",
        "\n",
        "sgdc = SGDClassifier(max_iter=1000, tol=0.01,random_state=0)\n",
        " \n",
        "sgdc.fit(X_train, y_train)\n",
        "\n",
        "y_sgdc= sgdc.predict(X_test)\n",
        "\n",
        "\n",
        "print('acc of testing :',accuracy_score(y_test, y_sgdc))\n",
        "\n",
        "print(classification_report(y_test, y_sgdc))\n",
        "plot_conf(y_test,y_sgdc)\n",
        "\n"
      ],
      "execution_count": 14,
      "outputs": [
        {
          "output_type": "stream",
          "name": "stdout",
          "text": [
            "acc of testing : 0.9820382663022257\n",
            "              precision    recall  f1-score   support\n",
            "\n",
            "           0       1.00      1.00      1.00      4458\n",
            "           1       0.94      1.00      0.97       355\n",
            "           2       0.64      1.00      0.78        89\n",
            "           3       0.96      0.99      0.97        75\n",
            "           4       0.00      0.00      0.00        43\n",
            "           5       0.96      0.65      0.78        40\n",
            "           6       0.86      0.90      0.88        20\n",
            "           7       0.00      0.00      0.00        19\n",
            "           8       0.62      0.94      0.74        17\n",
            "           9       0.00      0.00      0.00         4\n",
            "          10       1.00      0.50      0.67         2\n",
            "\n",
            "    accuracy                           0.98      5122\n",
            "   macro avg       0.63      0.63      0.62      5122\n",
            "weighted avg       0.97      0.98      0.98      5122\n",
            "\n"
          ]
        },
        {
          "output_type": "stream",
          "name": "stderr",
          "text": [
            "/usr/local/lib/python3.7/dist-packages/sklearn/metrics/_classification.py:1308: UndefinedMetricWarning: Precision and F-score are ill-defined and being set to 0.0 in labels with no predicted samples. Use `zero_division` parameter to control this behavior.\n",
            "  _warn_prf(average, modifier, msg_start, len(result))\n",
            "/usr/local/lib/python3.7/dist-packages/sklearn/metrics/_classification.py:1308: UndefinedMetricWarning: Precision and F-score are ill-defined and being set to 0.0 in labels with no predicted samples. Use `zero_division` parameter to control this behavior.\n",
            "  _warn_prf(average, modifier, msg_start, len(result))\n",
            "/usr/local/lib/python3.7/dist-packages/sklearn/metrics/_classification.py:1308: UndefinedMetricWarning: Precision and F-score are ill-defined and being set to 0.0 in labels with no predicted samples. Use `zero_division` parameter to control this behavior.\n",
            "  _warn_prf(average, modifier, msg_start, len(result))\n"
          ]
        },
        {
          "output_type": "display_data",
          "data": {
            "image/png": "[encoded data removed]",
            "text/plain": [
              "<Figure size 1440x504 with 2 Axes>"
            ]
          },
          "metadata": {
            "needs_background": "light"
          }
        }
      ]
    },
    {
      "cell_type": "code",
      "metadata": {
        "colab": {
          "base_uri": "https://localhost:8080/",
          "height": 805
        },
        "id": "YMBQBFIFYhCc",
        "outputId": "943da314-3de3-4c3b-87a2-55f6aca2c067"
      },
      "source": [
        "#Model\n",
        "dt=DecisionTreeClassifier(class_weight='balanced',random_state=0,max_depth=12,criterion='entropy')\n",
        "dt2=DecisionTreeClassifier(class_weight='balanced',random_state=0,max_depth=12,criterion='entropy')\n",
        "\n",
        "\n",
        "#Train the model using the training sets \n",
        "dt.fit(X_train,y_train)\n",
        "\n",
        "dt2.fit(X_train2, y_train2)\n",
        "\n",
        "y_dt=dt.predict(X_test)\n",
        "\n",
        "print(classification_report(y_test, y_dt))\n",
        "plot_conf(y_test,y_dt)\n",
        "\n",
        "print('------------')\n",
        "print('acc of testing :',accuracy_score(y_test, y_dt))"
      ],
      "execution_count": 15,
      "outputs": [
        {
          "output_type": "stream",
          "name": "stdout",
          "text": [
            "              precision    recall  f1-score   support\n",
            "\n",
            "           0       1.00      1.00      1.00      4458\n",
            "           1       1.00      1.00      1.00       355\n",
            "           2       0.73      0.36      0.48        89\n",
            "           3       0.96      1.00      0.98        75\n",
            "           4       0.35      0.72      0.47        43\n",
            "           5       1.00      1.00      1.00        40\n",
            "           6       1.00      1.00      1.00        20\n",
            "           7       1.00      1.00      1.00        19\n",
            "           8       1.00      1.00      1.00        17\n",
            "           9       1.00      0.25      0.40         4\n",
            "          10       1.00      1.00      1.00         2\n",
            "\n",
            "    accuracy                           0.99      5122\n",
            "   macro avg       0.91      0.85      0.85      5122\n",
            "weighted avg       0.99      0.99      0.99      5122\n",
            "\n",
            "------------\n",
            "acc of testing : 0.9857477547832878\n"
          ]
        },
        {
          "output_type": "display_data",
          "data": {
            "image/png": "[encoded data removed]",
            "text/plain": [
              "<Figure size 1440x504 with 2 Axes>"
            ]
          },
          "metadata": {
            "needs_background": "light"
          }
        }
      ]
    },
    {
      "cell_type": "markdown",
      "metadata": {
        "id": "dui3K5-sYkwX"
      },
      "source": [
        "---------\n",
        "#Consuming from kafka server\n",
        "-----------"
      ]
    },
    {
      "cell_type": "code",
      "metadata": {
        "colab": {
          "base_uri": "https://localhost:8080/"
        },
        "id": "O56038dx3CJA",
        "outputId": "3ad28c30-c89f-43ab-f3ce-6265a10c9dc3"
      },
      "source": [
        "# Make sure that you have the dependency installed on your system\n",
        "# If not installed, install by running the following\n",
        "!pip install kafka-python"
      ],
      "execution_count": 16,
      "outputs": [
        {
          "output_type": "stream",
          "name": "stdout",
          "text": [
            "Requirement already satisfied: kafka-python in /usr/local/lib/python3.7/dist-packages (2.0.2)\n"
          ]
        }
      ]
    },
    {
      "cell_type": "code",
      "metadata": {
        "id": "-exDgCif29go"
      },
      "source": [
        "import time\n",
        "\n",
        "# Import the python Consumer Client for Kafka\n",
        "from kafka import KafkaConsumer\n",
        "\n",
        "def consume_from_kafkaServer(number_of_rows=5000):\n",
        "\n",
        "    # instantiate the KafkaConsumer Class using the arguments mentioned.\n",
        "    # do not change any arguments other than the first positional argument.\n",
        "    consumer = KafkaConsumer(\n",
        "        'task2',   # change this to \"task2\" for the IOT Botnet Detection  ---- important ----\n",
        "        bootstrap_servers=\"34.130.121.39:9092\",\n",
        "        sasl_plain_username=\"student\",\n",
        "        sasl_plain_password=\"uottawa\",\n",
        "        security_protocol=\"SASL_PLAINTEXT\",\n",
        "        sasl_mechanism=\"PLAIN\",\n",
        "        auto_offset_reset='earliest',\n",
        "        enable_auto_commit=False\n",
        "    )\n",
        "\n",
        "\n",
        "    # Data Stream flowing in.\n",
        "    list_packest = [ ]\n",
        "    # Data Stream flowing in.\n",
        "    i = 1\n",
        "    for message in consumer:\n",
        "          # print(f\"Consuming the {i+1}th data packet!\")\n",
        "      \n",
        "          data_packet = message.value\n",
        "          dict_str = data_packet.decode(\"UTF-8\")\n",
        "          try:\n",
        "                  mydata = ast.literal_eval(dict_str)\n",
        "                  list_packest.append( mydata  )\n",
        "          except:\n",
        "                  # print(\"skip {}\".format(i))\n",
        "                  continue;\n",
        "          \n",
        "          if i == number_of_rows:\n",
        "              # print('x')\n",
        "              data_converted = pd.DataFrame.from_dict( list_packest )\n",
        "              break\n",
        "          i = i + 1\n",
        "    return data_converted     \n"
      ],
      "execution_count": 17,
      "outputs": []
    },
    {
      "cell_type": "markdown",
      "metadata": {
        "id": "J8Q4IZHx5t4s"
      },
      "source": [
        "----------------\n",
        "# Static case\n",
        "----------------"
      ]
    },
    {
      "cell_type": "code",
      "metadata": {
        "id": "zDmcAl0h27zo"
      },
      "source": [
        "def pipeline_static_dynamic(X_train,y_train,X_train2,y_train2,n_rows=10000):\n",
        "  \n",
        "  global dt\n",
        "  global dt2\n",
        "  global scalar\n",
        "\n",
        "  n = 100000 // n_rows \n",
        "  acc_scores_sta=[]\n",
        "  f1_scores_sta=[]\n",
        "\n",
        "  acc_scores_dyn=[]\n",
        "  f1_scores_dyn=[]\n",
        "  \n",
        "  \n",
        "  for i in range(n):\n",
        "    data_converted = consume_from_kafkaServer(n_rows)\n",
        "    #Converting categorical to numeric without Label or hot encoding just to confirm numbers assigned does not change\n",
        "\n",
        "    data_converted[\"Class\"].replace({\"BENIGN\": 0, \"mirai_udp_attack\": 1, \"gafgyt_udp_attack\": 2, \"gafgyt_junk_attack\": 3, \"gafgyt_tcp_attack\": 4, \"gafgyt_scan_attack\": 5, \"mirai_syn_attack\": 6, \"mirai_ack_attack\": 7, \"mirai_scan_attack\": 8, \"gafgyt_combo_attack\": 9, \"mirai_udpplain_attack\": 10}, inplace=True)\n",
        "\n",
        "    data_converted[\"Source\"].replace({\"Philips B120N10 Baby Monitor\": 0, \"Provision PT 838 Security Camera\": 1,\"Provision PT 737E Security Camera\": 2,\"Danmini Doorbell\": 3,\"SimpleHome XCS7 1002 WHT Security Camera\": 4,\"Samsung SNH 1011 N Webcam\": 5,\"Ennio Doorbell\": 6,\"Ecobee Thermostat\": 7,\"SimpleHome XCS7 1003 WHT Security Camera\": 8}, inplace=True)\n",
        "\n",
        "        # Replacing infinite with nan\n",
        "    data_converted.replace([ np.inf , -np.inf ] , np.nan, inplace=True)\n",
        "      \n",
        "    # Dropping all the rows with nan values\n",
        "    data_converted=data_converted.dropna( axis=0, how='any', thresh=None, subset=None, inplace=False)\n",
        "\n",
        "    X_test_dyn = data_converted.iloc[:, :-1] \n",
        "    y_test_dyn = data_converted.iloc[  : , -1] \n",
        "\n",
        "    #applying normalization\n",
        "    \n",
        "    X_test_dyn = pd.DataFrame(scaler.transform(X_test_dyn))\n",
        "    \n",
        "              # for static case\n",
        "\n",
        "    #testing the models\n",
        "    y_dt = dt.predict(X_test_dyn)\n",
        "\n",
        "    #Metrics\n",
        "    acc=accuracy_score(y_test_dyn,y_dt)\n",
        "    f1=f1_score(y_test_dyn,y_dt ,average='weighted')\n",
        "    \n",
        "    acc_scores_sta.append(acc)\n",
        "    f1_scores_sta.append(f1)\n",
        "\n",
        "   #-------------------------------------------------------------------------\n",
        "\n",
        "                           # For dynamic case\n",
        "\n",
        "    #testing the models\n",
        "\n",
        "    y_dt_dyn = dt2.predict(X_test_dyn)\n",
        "\n",
        "    #Metrics\n",
        "    acc2=accuracy_score(y_test_dyn,y_dt_dyn)\n",
        "    f1_2=f1_score(y_test_dyn,y_dt_dyn ,average='weighted')\n",
        "\n",
        "    acc_scores_dyn.append(acc2)\n",
        "    f1_scores_dyn.append(f1_2)\n",
        "\n",
        "    # Dropping last n rows using drop then concatenating the tested ones\n",
        "    X_train2.drop(X_train2.tail(n_rows).index,inplace = True)\n",
        "    X_train2=pd.concat([X_test_dyn, X_train2], ignore_index=True, sort=True)\n",
        "\n",
        "    y_train2.drop(y_train2.tail(n_rows).index,inplace = True)\n",
        "    y_train2=pd.concat([y_test_dyn, y_train2], ignore_index=True, sort=True)\n",
        "    \n",
        "    #re-training again the algorithm\n",
        "    dt2.fit(X_train2, y_train2)\n",
        "\n",
        "    \n",
        "  return acc_scores_sta,f1_scores_sta,acc_scores_dyn,f1_scores_dyn\n",
        "\n",
        "  "
      ],
      "execution_count": 18,
      "outputs": []
    },
    {
      "cell_type": "code",
      "metadata": {
        "id": "72q-pb2p27wo"
      },
      "source": [
        "acc_scores_sta=[]\n",
        "f1_scores_sta=[]\n",
        "acc_scores_dyn=[]\n",
        "f1_scores_dyn=[]\n",
        "\n",
        "acc_scores_sta , f1_scores_sta , acc_scores_dyn , f1_scores_dyn = pipeline_static_dynamic(X_train,y_train,X_train2,y_train2)"
      ],
      "execution_count": 19,
      "outputs": []
    },
    {
      "cell_type": "code",
      "metadata": {
        "colab": {
          "base_uri": "https://localhost:8080/"
        },
        "id": "L6xcUE3u27uJ",
        "outputId": "184d9f58-eafa-47a6-91a1-44d26792edd7"
      },
      "source": [
        "print('accuracy scores of static :',acc_scores_sta)\n",
        "print('F1-score: scores of static :',f1_scores_sta)\n",
        "print('----------------------------------------------------------------------------------------------------------')\n",
        "print('accuracy scores of Dynamic :',acc_scores_dyn)\n",
        "print('F1-score: scores of Dynamic :',f1_scores_dyn)"
      ],
      "execution_count": 20,
      "outputs": [
        {
          "output_type": "stream",
          "name": "stdout",
          "text": [
            "accuracy scores of static : [0.9854, 0.9852, 0.9848, 0.9854, 0.9852, 0.9854, 0.9854, 0.9848, 0.9852, 0.9848]\n",
            "F1-score: scores of static : [0.985254889294951, 0.9851276676367521, 0.9847313720073054, 0.985254889294951, 0.9851276676367521, 0.985254889294951, 0.985254889294951, 0.9847313720073054, 0.9851276676367521, 0.9847313720073054]\n",
            "----------------------------------------------------------------------------------------------------------\n",
            "accuracy scores of Dynamic : [0.9854, 0.9864, 0.9892, 0.9893, 0.9895, 0.9893, 0.9893, 0.9892, 0.9895, 0.9894]\n",
            "F1-score: scores of Dynamic : [0.985254889294951, 0.985872049689441, 0.9894313850668879, 0.9894935207843774, 0.9897270126329472, 0.9894935207843774, 0.9894935207843774, 0.9894313850668879, 0.9897270126329472, 0.9896171359715882]\n"
          ]
        }
      ]
    },
    {
      "cell_type": "markdown",
      "metadata": {
        "id": "GQKvxW0BdgS4"
      },
      "source": [
        "-----\n",
        "# Plotting results\n",
        "-----"
      ]
    },
    {
      "cell_type": "code",
      "metadata": {
        "colab": {
          "base_uri": "https://localhost:8080/",
          "height": 458
        },
        "id": "niCQfTappcpI",
        "outputId": "33eb4a34-3500-40b8-b37e-2491e20aa2c8"
      },
      "source": [
        "x = list(range(10))\n",
        "\n",
        "\n",
        "# From here the plotting starts\n",
        "plt.plot(x, acc_scores_sta, c='r', label=' acc scores')\n",
        "plt.plot(x, f1_scores_sta, c='b', label='f1-scores')\n",
        "\n",
        "plt.xlabel('Num of iterations')\n",
        "plt.ylabel('Accuracy')\n",
        "plt.title('Static case (acc & f1-score) ')\n",
        "plt.ylim(0.94, 1.02)\n",
        "plt.rcParams[\"figure.figsize\"] = (10,7)\n",
        "\n",
        "\n",
        "plt.legend()\n",
        "plt.show()\n"
      ],
      "execution_count": 25,
      "outputs": [
        {
          "output_type": "display_data",
          "data": {
            "image/png": "[encoded data removed]",
            "text/plain": [
              "<Figure size 720x504 with 1 Axes>"
            ]
          },
          "metadata": {
            "needs_background": "light"
          }
        }
      ]
    },
    {
      "cell_type": "code",
      "metadata": {
        "colab": {
          "base_uri": "https://localhost:8080/",
          "height": 458
        },
        "id": "oNlfxfuWpckR",
        "outputId": "6d780095-06cc-4ed2-9792-87e57b3daff4"
      },
      "source": [
        "\n",
        "x = list(range(10))\n",
        "\n",
        "\n",
        "plt.plot(x, acc_scores_dyn, c='r', label=' acc scores')\n",
        "plt.plot(x, f1_scores_dyn, c='b', label='f1-scores')\n",
        "\n",
        "plt.xlabel('Num of iterations')\n",
        "plt.ylabel('Accuracy')\n",
        "plt.title('Dynamic case (acc & f1-score) ')\n",
        "plt.ylim(0.94, 1.02)\n",
        "plt.rcParams[\"figure.figsize\"] = (10,7)\n",
        "\n",
        "\n",
        "plt.legend()\n",
        "plt.show()"
      ],
      "execution_count": 22,
      "outputs": [
        {
          "output_type": "display_data",
          "data": {
            "image/png": "[encoded data removed]",
            "text/plain": [
              "<Figure size 720x504 with 1 Axes>"
            ]
          },
          "metadata": {
            "needs_background": "light"
          }
        }
      ]
    },
    {
      "cell_type": "code",
      "metadata": {
        "id": "jsU-RckCbqqE",
        "colab": {
          "base_uri": "https://localhost:8080/",
          "height": 458
        },
        "outputId": "ab799d56-5366-428a-f713-74395ac2f0ee"
      },
      "source": [
        "\n",
        "x = list(range(10))\n",
        "\n",
        "plt.plot(x, acc_scores_dyn, c='r', label=' Dynamic case')\n",
        "plt.plot(x, acc_scores_sta, c='b', label='static case')\n",
        "\n",
        "plt.xlabel('Num of iterations')\n",
        "plt.ylabel('Accuracy')\n",
        "plt.title('Problem 1 (acc) ') \n",
        "plt.ylim(0.94, 1.02)\n",
        "plt.rcParams[\"figure.figsize\"] = (10,7)\n",
        "\n",
        "\n",
        "plt.legend()\n",
        "plt.show()"
      ],
      "execution_count": 23,
      "outputs": [
        {
          "output_type": "display_data",
          "data": {
            "image/png": "[encoded data removed]",
            "text/plain": [
              "<Figure size 720x504 with 1 Axes>"
            ]
          },
          "metadata": {
            "needs_background": "light"
          }
        }
      ]
    },
    {
      "cell_type": "code",
      "metadata": {
        "id": "gmVgxgk-cq5G",
        "colab": {
          "base_uri": "https://localhost:8080/",
          "height": 458
        },
        "outputId": "78a125a5-0348-4ecd-dac7-0a475ada8382"
      },
      "source": [
        "import matplotlib.pyplot as plt\n",
        "\n",
        "x = list(range(10))\n",
        "\n",
        "\n",
        "plt.plot(x, f1_scores_dyn, c='r', label=' Dynamic case')\n",
        "plt.plot(x, f1_scores_sta, c='b', label='static case')\n",
        "\n",
        "plt.xlabel('Num of iterations')\n",
        "plt.ylabel('F1-score')\n",
        "plt.title('Problem 1 (F1-score) ')\n",
        "plt.ylim(0.94, 1.02)\n",
        "plt.rcParams[\"figure.figsize\"] = (10,7)\n",
        "\n",
        "\n",
        "plt.legend()\n",
        "plt.show()"
      ],
      "execution_count": 24,
      "outputs": [
        {
          "output_type": "display_data",
          "data": {
            "image/png": "[encoded data removed]",
            "text/plain": [
              "<Figure size 720x504 with 1 Axes>"
            ]
          },
          "metadata": {
            "needs_background": "light"
          }
        }
      ]
    }
  ]
}