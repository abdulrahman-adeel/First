{
  "nbformat": 4,
  "nbformat_minor": 0,
  "metadata": {
    "kernelspec": {
      "display_name": "Python 3",
      "language": "python",
      "name": "python3"
    },
    "language_info": {
      "codemirror_mode": {
        "name": "ipython",
        "version": 3
      },
      "file_extension": ".py",
      "mimetype": "text/x-python",
      "name": "python",
      "nbconvert_exporter": "python",
      "pygments_lexer": "ipython3",
      "version": "3.8.5"
    },
    "colab": {
      "name": "problem 1_AI security_Assignment2.ipynb",
      "provenance": [],
      "collapsed_sections": []
    }
  },
  "cells": [
    {
      "cell_type": "markdown",
      "metadata": {
        "id": "r2Xv2M6o5t4j"
      },
      "source": [
        "----------\n",
        "# Problem 1\n",
        "--------------"
      ]
    },
    {
      "cell_type": "code",
      "metadata": {
        "id": "s_wV2BiF5t4m"
      },
      "source": [
        "import random\n",
        "random.seed(123)"
      ],
      "execution_count": 1,
      "outputs": []
    },
    {
      "cell_type": "markdown",
      "metadata": {
        "id": "5W1qTKxS5t4n"
      },
      "source": [
        "## Importing required libraries"
      ]
    },
    {
      "cell_type": "code",
      "metadata": {
        "id": "kmbHP8CS5t4o"
      },
      "source": [
        "# import important libraries\n",
        "import pandas as pd\n",
        "import numpy as np\n",
        "import sklearn\n",
        "import matplotlib.pyplot as plt\n",
        "from sklearn.tree import DecisionTreeClassifier\n",
        "from sklearn.metrics import accuracy_score,f1_score,precision_score,recall_score\n",
        "import time, math\n",
        "%matplotlib inline\n",
        "from sklearn.model_selection import GridSearchCV\n",
        "from sklearn.linear_model import SGDClassifier\n",
        "from sklearn.metrics import confusion_matrix,plot_confusion_matrix, classification_report\n",
        "import ast\n",
        "from sklearn.model_selection import train_test_split\n",
        "import seaborn as sns\n",
        "import copy\n"
      ],
      "execution_count": 2,
      "outputs": []
    },
    {
      "cell_type": "code",
      "metadata": {
        "scrolled": true,
        "id": "U3arPLDP5t4o"
      },
      "source": [
        "df_cicid = pd.read_csv(\"cicids_static_data.csv\")"
      ],
      "execution_count": 3,
      "outputs": []
    },
    {
      "cell_type": "code",
      "metadata": {
        "id": "IasJLNC69uZr"
      },
      "source": [
        "# Replacing infinite with nan\n",
        "df_cicid.replace([ np.inf , -np.inf ] , np.nan, inplace=True)\n",
        "  \n",
        "# Dropping all the rows with nan values\n",
        "df_cicid=df_cicid.dropna( axis=0, how='any', thresh=None, subset=None, inplace=False)\n"
      ],
      "execution_count": 4,
      "outputs": []
    },
    {
      "cell_type": "code",
      "metadata": {
        "scrolled": true,
        "id": "M86TOfP55t4o",
        "colab": {
          "base_uri": "https://localhost:8080/"
        },
        "outputId": "211a8f5f-81fc-4e60-d369-b1bb7da133df"
      },
      "source": [
        "df_cicid.isnull().sum().sum()"
      ],
      "execution_count": 5,
      "outputs": [
        {
          "output_type": "execute_result",
          "data": {
            "text/plain": [
              "0"
            ]
          },
          "metadata": {},
          "execution_count": 5
        }
      ]
    },
    {
      "cell_type": "code",
      "metadata": {
        "id": "lf06rIMJ5t4q"
      },
      "source": [
        "#Converting categorical to numeric without Label or hot encoding just to confirm numbers assigned does not change\n",
        "\n",
        "df_cicid[\"Label\"].replace({\"ATTACK\": 1, \"BENIGN\": 0}, inplace=True)"
      ],
      "execution_count": 6,
      "outputs": []
    },
    {
      "cell_type": "code",
      "metadata": {
        "id": "BWZdlNhI5t4r"
      },
      "source": [
        "X, y = df_cicid.iloc[:, :-1], df_cicid.iloc[:, -1]"
      ],
      "execution_count": 7,
      "outputs": []
    },
    {
      "cell_type": "code",
      "metadata": {
        "id": "EOcTOSJL5t4s"
      },
      "source": [
        "# # Split dataset into train and test and validation\n",
        "\n",
        "# In the first step we will split the data in training and remaining dataset\n",
        "X_train, X_rem, y_train, y_rem = train_test_split( X, y, train_size=0.8, random_state=42, stratify=y)\n",
        "\n",
        "# Now since we want the valid and test size to be equal (10% each of overall data). \n",
        "# we have to define valid_size=0.5 (that is 50% of remaining data)\n",
        "test_size = 0.5\n",
        "X_valid, X_test, y_valid, y_test = train_test_split(X_rem,y_rem, test_size=0.5, stratify=y_rem,random_state=42)\n"
      ],
      "execution_count": 8,
      "outputs": []
    },
    {
      "cell_type": "code",
      "metadata": {
        "id": "cyb5Bttc5t4r",
        "colab": {
          "base_uri": "https://localhost:8080/"
        },
        "outputId": "e916cc3e-141f-4eb2-dcae-145b99bb9e9e"
      },
      "source": [
        "y_train.value_counts()"
      ],
      "execution_count": 9,
      "outputs": [
        {
          "output_type": "execute_result",
          "data": {
            "text/plain": [
              "0    18189\n",
              "1     1954\n",
              "Name: Label, dtype: int64"
            ]
          },
          "metadata": {},
          "execution_count": 9
        }
      ]
    },
    {
      "cell_type": "code",
      "metadata": {
        "id": "KPyx1hXT5t4t"
      },
      "source": [
        "#Normalization for the data\n",
        "\n",
        "from sklearn.preprocessing import MinMaxScaler\n",
        "# from sklearn.preprocessing import StandardScaler\n",
        "scaler = MinMaxScaler()\n",
        "scaler.fit(X_train)\n",
        "\n",
        "X_train = pd.DataFrame(scaler.transform(X_train))\n",
        "X_test = pd.DataFrame(scaler.transform(X_test))\n",
        "X_valid = pd.DataFrame(scaler.transform(X_valid))"
      ],
      "execution_count": 10,
      "outputs": []
    },
    {
      "cell_type": "code",
      "metadata": {
        "id": "cn2Yi2EIYvgs"
      },
      "source": [
        "#Copying the training set to use it later for the dynamic case\n",
        "\n",
        "X_train2 =  copy.deepcopy( X_train  )\n",
        "y_train2 =  copy.deepcopy( y_train  )\n"
      ],
      "execution_count": 11,
      "outputs": []
    },
    {
      "cell_type": "code",
      "metadata": {
        "id": "aXyIhbGxEs2m"
      },
      "source": [
        "#Confusion matrix for function \n",
        "\n",
        "def plot_conf(y_true,y_predict):\n",
        "    plt.figure(figsize=[20, 7])\n",
        "    plt.subplot(1,2,1)\n",
        "    title = 'Confusion matrix '\n",
        "    sns.heatmap(confusion_matrix(y_true, y_predict), annot=True, fmt='')\n",
        "    plt.title(title)\n",
        "    plt.xlabel('Predicted label');\n",
        "    plt.ylabel('True label');\n",
        "\n",
        "    return"
      ],
      "execution_count": 12,
      "outputs": []
    },
    {
      "cell_type": "code",
      "metadata": {
        "id": "igKy3HqVEG00",
        "colab": {
          "base_uri": "https://localhost:8080/"
        },
        "outputId": "e94be97b-b556-4bb8-988d-0618d57e8819"
      },
      "source": [
        "from sklearn.linear_model import SGDClassifier\n",
        "\n",
        "sgdc = SGDClassifier(max_iter=1000, tol=0.01,random_state=0)\n",
        " \n",
        "sgdc.fit(X_train, y_train)\n",
        "\n",
        "y_sgdc= sgdc.predict(X_test)\n",
        "\n",
        "\n",
        "y_sgdc_valid=sgdc.predict(X_valid)\n",
        "\n",
        "print(classification_report(y_valid, y_sgdc_valid))\n",
        "print('------------')\n",
        "print('acc of validation :',accuracy_score(y_valid, y_sgdc_valid)*100)\n",
        "\n"
      ],
      "execution_count": 13,
      "outputs": [
        {
          "output_type": "stream",
          "name": "stdout",
          "text": [
            "              precision    recall  f1-score   support\n",
            "\n",
            "           0       0.97      0.99      0.98      2273\n",
            "           1       0.84      0.69      0.76       245\n",
            "\n",
            "    accuracy                           0.96      2518\n",
            "   macro avg       0.90      0.84      0.87      2518\n",
            "weighted avg       0.95      0.96      0.95      2518\n",
            "\n",
            "------------\n",
            "acc of validation : 95.67116759332805\n"
          ]
        }
      ]
    },
    {
      "cell_type": "code",
      "metadata": {
        "colab": {
          "base_uri": "https://localhost:8080/",
          "height": 649
        },
        "id": "NAnhATo1EJ2s",
        "outputId": "dd67be2c-e043-4feb-aef1-37973cf73206"
      },
      "source": [
        "print('acc of testing :',round(accuracy_score(y_test, y_sgdc),5)*100)\n",
        "print('------------')\n",
        "print(classification_report(y_test, y_sgdc))\n",
        "\n",
        "plot_conf(y_test, y_sgdc)\n"
      ],
      "execution_count": 14,
      "outputs": [
        {
          "output_type": "stream",
          "name": "stdout",
          "text": [
            "acc of testing : 94.758\n",
            "------------\n",
            "              precision    recall  f1-score   support\n",
            "\n",
            "           0       0.96      0.98      0.97      2274\n",
            "           1       0.79      0.62      0.70       244\n",
            "\n",
            "    accuracy                           0.95      2518\n",
            "   macro avg       0.88      0.80      0.83      2518\n",
            "weighted avg       0.94      0.95      0.94      2518\n",
            "\n"
          ]
        },
        {
          "output_type": "display_data",
          "data": {
            "image/png": "[encoded data removed]",
            "text/plain": [
              "<Figure size 1440x504 with 2 Axes>"
            ]
          },
          "metadata": {
            "needs_background": "light"
          }
        }
      ]
    },
    {
      "cell_type": "code",
      "metadata": {
        "id": "xXqKXntmFrA2",
        "colab": {
          "base_uri": "https://localhost:8080/"
        },
        "outputId": "4269feac-4e64-4576-c75e-df24c5824662"
      },
      "source": [
        "#Model\n",
        "dt=DecisionTreeClassifier(criterion='entropy',class_weight='balanced',max_depth=15,random_state=0)\n",
        "dt2=DecisionTreeClassifier(criterion='entropy',class_weight='balanced',max_depth=15,random_state=0)\n",
        "\n",
        "#Train the model using the training sets \n",
        "\n",
        "#for static later\n",
        "dt.fit(X_train,y_train)\n",
        "# for dynamic\n",
        "dt2.fit(X_train2, y_train2)\n",
        "\n",
        "\n",
        "y_dt=dt.predict(X_test)\n",
        "y_dt_valid=dt.predict(X_valid)\n",
        "\n",
        "print(classification_report(y_valid, y_dt_valid))\n",
        "print('------------')\n",
        "print('acc of validation :',accuracy_score(y_valid, y_dt_valid)*100)\n"
      ],
      "execution_count": 15,
      "outputs": [
        {
          "output_type": "stream",
          "name": "stdout",
          "text": [
            "              precision    recall  f1-score   support\n",
            "\n",
            "           0       1.00      1.00      1.00      2273\n",
            "           1       0.98      1.00      0.99       245\n",
            "\n",
            "    accuracy                           1.00      2518\n",
            "   macro avg       0.99      1.00      0.99      2518\n",
            "weighted avg       1.00      1.00      1.00      2518\n",
            "\n",
            "------------\n",
            "acc of validation : 99.80142970611597\n"
          ]
        }
      ]
    },
    {
      "cell_type": "code",
      "metadata": {
        "colab": {
          "base_uri": "https://localhost:8080/",
          "height": 649
        },
        "id": "Kz9654waI2X3",
        "outputId": "a5aeebcd-4aeb-4927-d5ff-4848f9a8bff2"
      },
      "source": [
        "print('acc of testing :',round(accuracy_score(y_test, y_dt),5)*100)\n",
        "print('------------')\n",
        "print(classification_report(y_test, y_dt))\n",
        "\n",
        "plot_conf(y_test, y_dt)\n"
      ],
      "execution_count": 16,
      "outputs": [
        {
          "output_type": "stream",
          "name": "stdout",
          "text": [
            "acc of testing : 99.921\n",
            "------------\n",
            "              precision    recall  f1-score   support\n",
            "\n",
            "           0       1.00      1.00      1.00      2274\n",
            "           1       1.00      1.00      1.00       244\n",
            "\n",
            "    accuracy                           1.00      2518\n",
            "   macro avg       1.00      1.00      1.00      2518\n",
            "weighted avg       1.00      1.00      1.00      2518\n",
            "\n"
          ]
        },
        {
          "output_type": "display_data",
          "data": {
            "image/png": "[encoded data removed]",
            "text/plain": [
              "<Figure size 1440x504 with 2 Axes>"
            ]
          },
          "metadata": {
            "needs_background": "light"
          }
        }
      ]
    },
    {
      "cell_type": "markdown",
      "metadata": {
        "id": "5di_IHognzBf"
      },
      "source": [
        "---------\n",
        "#Consuming from kafka server\n",
        "-----------"
      ]
    },
    {
      "cell_type": "code",
      "metadata": {
        "id": "XVWK0gVZ5t4u",
        "colab": {
          "base_uri": "https://localhost:8080/"
        },
        "outputId": "68fa929c-3345-40d5-e071-b8b8aa2467bb"
      },
      "source": [
        "# Make sure that you have the dependency installed on your system\n",
        "# If not installed, install by running the following\n",
        "!pip install kafka-python"
      ],
      "execution_count": 17,
      "outputs": [
        {
          "output_type": "stream",
          "name": "stdout",
          "text": [
            "Requirement already satisfied: kafka-python in /usr/local/lib/python3.7/dist-packages (2.0.2)\n"
          ]
        }
      ]
    },
    {
      "cell_type": "code",
      "metadata": {
        "id": "r2pOivUfGj25"
      },
      "source": [
        "import time\n",
        "\n",
        "# Import the python Consumer Client for Kafka\n",
        "from kafka import KafkaConsumer\n",
        "\n",
        "#Defining a function to consume packets and converting the packets to dataframe to use it for the static and dynamic case\n",
        "\n",
        "def consume_from_kafkaServer(number_of_rows=10000):\n",
        "    # instantiate the KafkaConsumer Class using the arguments mentioned.\n",
        "    # do not change any arguments other than the first positional argument.\n",
        "    consumer = KafkaConsumer(\n",
        "        'task1',   # change this to \"task2\" for the IOT Botnet Detection  ---- important ----\n",
        "        bootstrap_servers=\"34.130.121.39:9092\",\n",
        "        sasl_plain_username=\"student\",\n",
        "        sasl_plain_password=\"uottawa\",\n",
        "        security_protocol=\"SASL_PLAINTEXT\",\n",
        "        sasl_mechanism=\"PLAIN\",\n",
        "        auto_offset_reset='earliest',\n",
        "        enable_auto_commit=False\n",
        "    )\n",
        "\n",
        "\n",
        "    # Data Stream flowing in.\n",
        "    list_packest = []\n",
        "    # Data Stream flowing in.\n",
        "    i = 1\n",
        "    for message in consumer:\n",
        "          # print(f\"Consuming the {i+1}th data packet!\")\n",
        "      \n",
        "          data_packet = message.value\n",
        "          dict_str = data_packet.decode(\"UTF-8\")\n",
        "          try:\n",
        "                  mydata = ast.literal_eval(dict_str)\n",
        "                  list_packest.append( mydata  )\n",
        "          except:\n",
        "                  #print(\"skip {}\".format(i))\n",
        "                  continue;\n",
        "          \n",
        "          if i == number_of_rows:\n",
        "              #print('x')\n",
        "              data_converted = pd.DataFrame.from_dict( list_packest )\n",
        "              break\n",
        "          i = i + 1\n",
        "    return data_converted     \n"
      ],
      "execution_count": 18,
      "outputs": []
    },
    {
      "cell_type": "markdown",
      "metadata": {
        "id": "J8Q4IZHx5t4s"
      },
      "source": [
        "----------------\n",
        "# Static and dynamic case\n",
        "----------------"
      ]
    },
    {
      "cell_type": "code",
      "metadata": {
        "id": "7zXGEFHqGSsD"
      },
      "source": [
        "def pipeline_static_dynamic(X_train,y_train,X_train2,y_train2,n_rows=10000):\n",
        "  \n",
        "  global dt\n",
        "  global dt2\n",
        "  global scalar\n",
        "\n",
        "  n = 100000 // n_rows \n",
        "  acc_scores_sta=[]\n",
        "  f1_scores_sta=[]\n",
        "\n",
        "  acc_scores_dyn=[]\n",
        "  f1_scores_dyn=[]\n",
        "  \n",
        "  \n",
        "  for i in range(n):\n",
        "    data_converted = consume_from_kafkaServer(n_rows)\n",
        "    #Converting categorical variables to numeric\n",
        "    \n",
        "    data_converted[\"Label\"].replace({\"ATTACK\": 1, \"BENIGN\": 0}, inplace=True)\n",
        "\n",
        "        # Replacing infinite with nan\n",
        "    data_converted.replace([ np.inf , -np.inf ] , np.nan, inplace=True)\n",
        "      \n",
        "    # Dropping all the rows with nan values\n",
        "    data_converted=data_converted.dropna( axis=0, how='any', thresh=None, subset=None, inplace=False)\n",
        "\n",
        "    X_test_dyn = data_converted.iloc[:, :-1] \n",
        "    y_test_dyn = data_converted.iloc[  : , -1] \n",
        "\n",
        "    #applying normalization\n",
        "    \n",
        "    X_test_dyn = pd.DataFrame(scaler.transform(X_test_dyn))\n",
        "\n",
        "                # for static case\n",
        "\n",
        "    #testing the models\n",
        "    y_dt = dt.predict(X_test_dyn)\n",
        "\n",
        "    #Metrics\n",
        "    acc=accuracy_score(y_test_dyn,y_dt)\n",
        "    f1=f1_score(y_test_dyn,y_dt ,average='weighted')\n",
        "    \n",
        "    acc_scores_sta.append(acc)\n",
        "    f1_scores_sta.append(f1)\n",
        "\n",
        "   #-------------------------------------------------------------------------\n",
        "\n",
        "                             # For dynamic case\n",
        "\n",
        "    #testing the models\n",
        "    y_dt_dyn = dt2.predict(X_test_dyn)\n",
        "\n",
        "    #Metrics\n",
        "    acc2=accuracy_score(y_test_dyn,y_dt_dyn)\n",
        "    f1_2=f1_score(y_test_dyn,y_dt_dyn ,average='weighted')\n",
        "\n",
        "    acc_scores_dyn.append(acc2)\n",
        "    f1_scores_dyn.append(f1_2)\n",
        "\n",
        "    # Dropping last n rows using drop then concatenating the tested ones\n",
        "    X_train2.drop(X_train2.tail(n_rows).index,inplace = True)\n",
        "    X_train2=pd.concat([X_test_dyn, X_train2], ignore_index=True, sort=True)\n",
        "\n",
        "    y_train2.drop(y_train2.tail(n_rows).index,inplace = True)\n",
        "    y_train2=pd.concat([y_test_dyn, y_train2], ignore_index=True, sort=True)\n",
        "    \n",
        "    #re-training again the algorithm\n",
        "    dt2.fit(X_train2, y_train2)\n",
        "\n",
        "    \n",
        "  return acc_scores_sta,f1_scores_sta,acc_scores_dyn,f1_scores_dyn\n",
        "\n",
        "  "
      ],
      "execution_count": 19,
      "outputs": []
    },
    {
      "cell_type": "code",
      "metadata": {
        "id": "4srDRHZmGSpr",
        "colab": {
          "base_uri": "https://localhost:8080/"
        },
        "outputId": "931e9f7d-a3f6-4028-bf76-84d7127049f3"
      },
      "source": [
        "acc_scores_sta=[]\n",
        "f1_scores_sta=[]\n",
        "acc_scores_dyn=[]\n",
        "f1_scores_dyn=[]\n",
        "\n",
        "acc_scores_sta , f1_scores_sta , acc_scores_dyn , f1_scores_dyn = pipeline_static_dynamic(X_train,y_train,X_train2,y_train2)"
      ],
      "execution_count": 20,
      "outputs": [
        {
          "output_type": "stream",
          "name": "stderr",
          "text": [
            "/usr/local/lib/python3.7/dist-packages/sklearn/base.py:488: FutureWarning: The feature names should match those that were passed during fit. Starting version 1.2, an error will be raised.\n",
            "Feature names unseen at fit time:\n",
            "- ACK Flag Count\n",
            "- Active Max\n",
            "- Active Min\n",
            "- Active Std\n",
            "- Average Packet Size\n",
            "- ...\n",
            "Feature names seen at fit time, yet now missing:\n",
            "-  ACK Flag Count\n",
            "-  Active Max\n",
            "-  Active Min\n",
            "-  Active Std\n",
            "-  Average Packet Size\n",
            "- ...\n",
            "\n",
            "  warnings.warn(message, FutureWarning)\n",
            "/usr/local/lib/python3.7/dist-packages/sklearn/base.py:488: FutureWarning: The feature names should match those that were passed during fit. Starting version 1.2, an error will be raised.\n",
            "Feature names unseen at fit time:\n",
            "- ACK Flag Count\n",
            "- Active Max\n",
            "- Active Min\n",
            "- Active Std\n",
            "- Average Packet Size\n",
            "- ...\n",
            "Feature names seen at fit time, yet now missing:\n",
            "-  ACK Flag Count\n",
            "-  Active Max\n",
            "-  Active Min\n",
            "-  Active Std\n",
            "-  Average Packet Size\n",
            "- ...\n",
            "\n",
            "  warnings.warn(message, FutureWarning)\n",
            "/usr/local/lib/python3.7/dist-packages/sklearn/base.py:488: FutureWarning: The feature names should match those that were passed during fit. Starting version 1.2, an error will be raised.\n",
            "Feature names unseen at fit time:\n",
            "- ACK Flag Count\n",
            "- Active Max\n",
            "- Active Min\n",
            "- Active Std\n",
            "- Average Packet Size\n",
            "- ...\n",
            "Feature names seen at fit time, yet now missing:\n",
            "-  ACK Flag Count\n",
            "-  Active Max\n",
            "-  Active Min\n",
            "-  Active Std\n",
            "-  Average Packet Size\n",
            "- ...\n",
            "\n",
            "  warnings.warn(message, FutureWarning)\n",
            "/usr/local/lib/python3.7/dist-packages/sklearn/base.py:488: FutureWarning: The feature names should match those that were passed during fit. Starting version 1.2, an error will be raised.\n",
            "Feature names unseen at fit time:\n",
            "- ACK Flag Count\n",
            "- Active Max\n",
            "- Active Min\n",
            "- Active Std\n",
            "- Average Packet Size\n",
            "- ...\n",
            "Feature names seen at fit time, yet now missing:\n",
            "-  ACK Flag Count\n",
            "-  Active Max\n",
            "-  Active Min\n",
            "-  Active Std\n",
            "-  Average Packet Size\n",
            "- ...\n",
            "\n",
            "  warnings.warn(message, FutureWarning)\n",
            "/usr/local/lib/python3.7/dist-packages/sklearn/base.py:488: FutureWarning: The feature names should match those that were passed during fit. Starting version 1.2, an error will be raised.\n",
            "Feature names unseen at fit time:\n",
            "- ACK Flag Count\n",
            "- Active Max\n",
            "- Active Min\n",
            "- Active Std\n",
            "- Average Packet Size\n",
            "- ...\n",
            "Feature names seen at fit time, yet now missing:\n",
            "-  ACK Flag Count\n",
            "-  Active Max\n",
            "-  Active Min\n",
            "-  Active Std\n",
            "-  Average Packet Size\n",
            "- ...\n",
            "\n",
            "  warnings.warn(message, FutureWarning)\n",
            "/usr/local/lib/python3.7/dist-packages/sklearn/base.py:488: FutureWarning: The feature names should match those that were passed during fit. Starting version 1.2, an error will be raised.\n",
            "Feature names unseen at fit time:\n",
            "- ACK Flag Count\n",
            "- Active Max\n",
            "- Active Min\n",
            "- Active Std\n",
            "- Average Packet Size\n",
            "- ...\n",
            "Feature names seen at fit time, yet now missing:\n",
            "-  ACK Flag Count\n",
            "-  Active Max\n",
            "-  Active Min\n",
            "-  Active Std\n",
            "-  Average Packet Size\n",
            "- ...\n",
            "\n",
            "  warnings.warn(message, FutureWarning)\n",
            "/usr/local/lib/python3.7/dist-packages/sklearn/base.py:488: FutureWarning: The feature names should match those that were passed during fit. Starting version 1.2, an error will be raised.\n",
            "Feature names unseen at fit time:\n",
            "- ACK Flag Count\n",
            "- Active Max\n",
            "- Active Min\n",
            "- Active Std\n",
            "- Average Packet Size\n",
            "- ...\n",
            "Feature names seen at fit time, yet now missing:\n",
            "-  ACK Flag Count\n",
            "-  Active Max\n",
            "-  Active Min\n",
            "-  Active Std\n",
            "-  Average Packet Size\n",
            "- ...\n",
            "\n",
            "  warnings.warn(message, FutureWarning)\n",
            "/usr/local/lib/python3.7/dist-packages/sklearn/base.py:488: FutureWarning: The feature names should match those that were passed during fit. Starting version 1.2, an error will be raised.\n",
            "Feature names unseen at fit time:\n",
            "- ACK Flag Count\n",
            "- Active Max\n",
            "- Active Min\n",
            "- Active Std\n",
            "- Average Packet Size\n",
            "- ...\n",
            "Feature names seen at fit time, yet now missing:\n",
            "-  ACK Flag Count\n",
            "-  Active Max\n",
            "-  Active Min\n",
            "-  Active Std\n",
            "-  Average Packet Size\n",
            "- ...\n",
            "\n",
            "  warnings.warn(message, FutureWarning)\n",
            "/usr/local/lib/python3.7/dist-packages/sklearn/base.py:488: FutureWarning: The feature names should match those that were passed during fit. Starting version 1.2, an error will be raised.\n",
            "Feature names unseen at fit time:\n",
            "- ACK Flag Count\n",
            "- Active Max\n",
            "- Active Min\n",
            "- Active Std\n",
            "- Average Packet Size\n",
            "- ...\n",
            "Feature names seen at fit time, yet now missing:\n",
            "-  ACK Flag Count\n",
            "-  Active Max\n",
            "-  Active Min\n",
            "-  Active Std\n",
            "-  Average Packet Size\n",
            "- ...\n",
            "\n",
            "  warnings.warn(message, FutureWarning)\n",
            "/usr/local/lib/python3.7/dist-packages/sklearn/base.py:488: FutureWarning: The feature names should match those that were passed during fit. Starting version 1.2, an error will be raised.\n",
            "Feature names unseen at fit time:\n",
            "- ACK Flag Count\n",
            "- Active Max\n",
            "- Active Min\n",
            "- Active Std\n",
            "- Average Packet Size\n",
            "- ...\n",
            "Feature names seen at fit time, yet now missing:\n",
            "-  ACK Flag Count\n",
            "-  Active Max\n",
            "-  Active Min\n",
            "-  Active Std\n",
            "-  Average Packet Size\n",
            "- ...\n",
            "\n",
            "  warnings.warn(message, FutureWarning)\n"
          ]
        }
      ]
    },
    {
      "cell_type": "code",
      "metadata": {
        "id": "ZEeSuIsfGSnE",
        "colab": {
          "base_uri": "https://localhost:8080/"
        },
        "outputId": "b8adf130-284b-4322-feda-0941d209f30f"
      },
      "source": [
        "print('accuracy scores of static :',acc_scores_sta)\n",
        "print('F1-score: scores of static :',f1_scores_sta)\n",
        "print('----------------------------------------------------------------------------------------------------------')\n",
        "print('accuracy scores of Dynamic :',acc_scores_dyn)\n",
        "print('F1-score: scores of Dynamic :',f1_scores_dyn)"
      ],
      "execution_count": 21,
      "outputs": [
        {
          "output_type": "stream",
          "name": "stdout",
          "text": [
            "accuracy scores of static : [0.997, 0.9972, 0.9971, 0.9971, 0.9971, 0.9972, 0.9972, 0.9972, 0.9969, 0.9969]\n",
            "F1-score: scores of static : [0.9969917951075286, 0.997194912450655, 0.9970914026669614, 0.9970914026669614, 0.9970940892045317, 0.9971948649654554, 0.9971948828624578, 0.9971948649654554, 0.9968964856996329, 0.9968950456524013]\n",
            "----------------------------------------------------------------------------------------------------------\n",
            "accuracy scores of Dynamic : [0.997, 0.9995, 0.9996, 1.0, 0.9995, 1.0, 0.9998, 0.9999, 0.9998, 0.9995]\n",
            "F1-score: scores of Dynamic : [0.9969917951075286, 0.9995005635632646, 0.9996003613040971, 1.0, 0.9995003373611704, 1.0, 0.9998000908490954, 0.9999000228045969, 0.9998000903260242, 0.999500113627115]\n"
          ]
        }
      ]
    },
    {
      "cell_type": "markdown",
      "metadata": {
        "id": "ekLh3_UJe6Kp"
      },
      "source": [
        "----\n",
        "# Plotting the results\n",
        "-----"
      ]
    },
    {
      "cell_type": "code",
      "metadata": {
        "colab": {
          "base_uri": "https://localhost:8080/",
          "height": 458
        },
        "id": "6nDH1GCu-a6t",
        "outputId": "48dad724-11d1-43dc-cb96-9a725419ef07"
      },
      "source": [
        "x = list(range(10))\n",
        "\n",
        "\n",
        "# From here the plotting starts\n",
        "plt.plot(x, acc_scores_sta, c='r', label=' acc scores')\n",
        "plt.plot(x, f1_scores_sta, c='b', label='f1-scores')\n",
        "\n",
        "plt.xlabel('Num of iterations')\n",
        "plt.ylabel('Accuracy')\n",
        "plt.title('Static case (acc & f1-score) ')\n",
        "plt.ylim(0.94, 1.02)\n",
        "plt.rcParams[\"figure.figsize\"] = (10,7)\n",
        "\n",
        "\n",
        "plt.legend()\n",
        "plt.show()"
      ],
      "execution_count": 26,
      "outputs": [
        {
          "output_type": "display_data",
          "data": {
            "image/png": "[encoded data removed]",
            "text/plain": [
              "<Figure size 720x504 with 1 Axes>"
            ]
          },
          "metadata": {
            "needs_background": "light"
          }
        }
      ]
    },
    {
      "cell_type": "code",
      "metadata": {
        "colab": {
          "base_uri": "https://localhost:8080/",
          "height": 458
        },
        "id": "zC-YP3fn-d3m",
        "outputId": "9e6ffdfb-bbd9-4b4c-8543-99b81ac1594d"
      },
      "source": [
        "\n",
        "x = list(range(10))\n",
        "\n",
        "\n",
        "plt.plot(x, acc_scores_dyn, c='r', label=' acc scores')\n",
        "plt.plot(x, f1_scores_dyn, c='b', label='f1-scores')\n",
        "\n",
        "plt.xlabel('Num of iterations')\n",
        "plt.ylabel('Accuracy')\n",
        "plt.title('Dynamic case (acc & f1-score) ')\n",
        "plt.ylim(0.94, 1.02)\n",
        "plt.rcParams[\"figure.figsize\"] = (10,7)\n",
        "\n",
        "\n",
        "plt.legend()\n",
        "plt.show()"
      ],
      "execution_count": 23,
      "outputs": [
        {
          "output_type": "display_data",
          "data": {
            "image/png": "[encoded data removed]",
            "text/plain": [
              "<Figure size 720x504 with 1 Axes>"
            ]
          },
          "metadata": {
            "needs_background": "light"
          }
        }
      ]
    },
    {
      "cell_type": "code",
      "metadata": {
        "id": "Vp-3KeVN5t40",
        "colab": {
          "base_uri": "https://localhost:8080/",
          "height": 458
        },
        "outputId": "a1397d8e-9200-4da2-be59-e3a0b8b2f61e"
      },
      "source": [
        "\n",
        "x = list(range(10))\n",
        "\n",
        "plt.plot(x, acc_scores_dyn, c='r', label=' Dynamic case')\n",
        "plt.plot(x, acc_scores_sta, c='b', label='static case')\n",
        "\n",
        "plt.xlabel('Num of iterations')\n",
        "plt.ylabel('Accuracy')\n",
        "plt.title('Problem 1 (acc) ') \n",
        "plt.ylim(0.94, 1.02)\n",
        "plt.rcParams[\"figure.figsize\"] = (10,7)\n",
        "\n",
        "\n",
        "plt.legend()\n",
        "plt.show()"
      ],
      "execution_count": 24,
      "outputs": [
        {
          "output_type": "display_data",
          "data": {
            "image/png": "[encoded data removed]",
            "text/plain": [
              "<Figure size 720x504 with 1 Axes>"
            ]
          },
          "metadata": {
            "needs_background": "light"
          }
        }
      ]
    },
    {
      "cell_type": "code",
      "metadata": {
        "id": "WqlxfpEM5t40",
        "colab": {
          "base_uri": "https://localhost:8080/",
          "height": 458
        },
        "outputId": "f8881a3a-af72-4437-b055-0a1b7bbab99f"
      },
      "source": [
        "import matplotlib.pyplot as plt\n",
        "\n",
        "x = list(range(10))\n",
        "\n",
        "\n",
        "plt.plot(x, f1_scores_dyn, c='r', label=' Dynamic case')\n",
        "plt.plot(x, f1_scores_sta, c='b', label='static case')\n",
        "\n",
        "plt.xlabel('Num of iterations')\n",
        "plt.ylabel('F1-score')\n",
        "plt.title('Problem 1 (F1-score) ')\n",
        "plt.ylim(0.94, 1.02)\n",
        "plt.rcParams[\"figure.figsize\"] = (10,7)\n",
        "\n",
        "\n",
        "plt.legend()\n",
        "plt.show()"
      ],
      "execution_count": 25,
      "outputs": [
        {
          "output_type": "display_data",
          "data": {
            "image/png": "[encoded data removed]",
            "text/plain": [
              "<Figure size 720x504 with 1 Axes>"
            ]
          },
          "metadata": {
            "needs_background": "light"
          }
        }
      ]
    }
  ]
}